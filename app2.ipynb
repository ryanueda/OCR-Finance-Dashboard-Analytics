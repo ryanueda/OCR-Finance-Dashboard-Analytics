{
 "cells": [
  {
   "cell_type": "code",
   "execution_count": 1,
   "metadata": {},
   "outputs": [],
   "source": [
    "import pandas as pd\n",
    "import streamlit as st\n",
    "import plotly.express as px\n",
    "from PIL import Image\n",
    "import os\n",
    "import camelot\n",
    "import matplotlib.pyplot as plt\n",
    "import numpy as np\n",
    "import base64\n",
    "import io\n",
    "\n",
    "def parseData(file):\n",
    "        tables = camelot.read_pdf(f'statements/{file}', flavor='stream', pages='all')\n",
    "        concat = tables[0].df\n",
    "\n",
    "        ## concatenate all tables into one\n",
    "        for i in range(1, len(tables)):\n",
    "            concat = pd.concat([concat, tables[i].df])\n",
    "\n",
    "        ## filter out nonsensical data\n",
    "        concat = concat[~concat.apply(lambda row: row.astype(str).str.contains('about:blank')).any(axis=1)]\n",
    "\n",
    "        ## reset index of df\n",
    "        concat = concat.reset_index(drop=True)\n",
    "\n",
    "        if concat.shape[-1] == 7:\n",
    "            concat = concat.drop(concat.columns[-1], axis=1)\n",
    "\n",
    "        ## rename columns\n",
    "        concat.columns = ['Date', 'Code', 'Reference', 'Debit', 'Credit', 'Extra']\n",
    "\n",
    "        ## handle bad formatting\n",
    "        for row in range(len(concat)):\n",
    "            value = concat.at[row, 'Credit']\n",
    "            extraVal = concat.at[row, 'Extra']\n",
    "            \n",
    "            if value != '':\n",
    "                concat.at[row, 'Debit'] = value\n",
    "                concat.at[row, 'Credit'] = ''\n",
    "            \n",
    "            if extraVal != '':\n",
    "                concat.at[row, 'Credit'] = extraVal\n",
    "                concat.at[row, 'Extra'] = ''\n",
    "                \n",
    "        ## drop useless column\n",
    "        concat = concat.drop(columns=['Extra'])\n",
    "\n",
    "        firstCell = concat.at[0, 'Date']\n",
    "        secondCell = concat.at[1, 'Debit']\n",
    "        thirdCell = concat.at[2, 'Debit']\n",
    "        fourthCell = concat.at[3, 'Debit']\n",
    "\n",
    "        if firstCell.split(' ')[0] == 'Transaction':\n",
    "            concat = concat.drop([0])\n",
    "            \n",
    "        if secondCell == 'Download':\n",
    "            concat = concat.drop([1])\n",
    "            \n",
    "        if thirdCell == 'Debit':\n",
    "            concat = concat.drop([2])\n",
    "            \n",
    "        if fourthCell == '(Withdrawal)':\n",
    "            concat = concat.drop([3])\n",
    "            \n",
    "        concat = concat.reset_index(drop=True)\n",
    "        concat['Type'] = ''\n",
    "        concat = concat.reindex(columns=['Date', 'Code', 'Type', 'Reference', 'Debit', 'Credit'])\n",
    "        for a in range(len(concat)):\n",
    "            code = concat.at[a, 'Code']\n",
    "            steps = 0\n",
    "            \n",
    "            if code != '':\n",
    "                addArr = []\n",
    "                index = a + 1\n",
    "                \n",
    "                while True:\n",
    "                    if index > len(concat)-1:\n",
    "                        break\n",
    "                        \n",
    "                    check = concat.at[index, 'Code']\n",
    "                    if check == '':\n",
    "                        addArr.append(concat.at[index, 'Reference'])\n",
    "                        steps += 1\n",
    "                        index += 1\n",
    "                    else:\n",
    "                        break\n",
    "                    \n",
    "                for step in range(steps):\n",
    "                    if concat.at[a, 'Reference'][-1] == '-' or concat.at[a, 'Reference'][-1].isdigit() == True:\n",
    "                        concat.at[a, 'Reference'] += concat.at[a+step+1, 'Reference']\n",
    "                    else:\n",
    "                        concat.at[a, 'Reference'] += ' ' + concat.at[a+step+1, 'Reference']\n",
    "                        \n",
    "                    concat.at[a+step+1, 'Reference'] = ''\n",
    "\n",
    "        ## remove all empty rows\n",
    "        concat = concat.loc[~(concat == '').all(axis=1)]\n",
    "        concat = concat.reset_index(drop=True)\n",
    "\n",
    "        if concat.at[concat.shape[0]-1, 'Debit'] != '' and concat.at[concat.shape[0]-1, 'Credit'] != '':\n",
    "            DrBal = concat.at[concat.shape[0]-1, 'Debit']\n",
    "            CrBal = concat.at[concat.shape[0]-1, 'Credit']\n",
    "            concat = concat.drop(concat.index[-1])\n",
    "\n",
    "        for TYPE in range(len(concat)):\n",
    "            code = concat.at[TYPE, 'Code']\n",
    "            \n",
    "            if code == 'MST':\n",
    "                concat.at[TYPE, 'Type'] = 'Card Transaction'\n",
    "                \n",
    "            if code == 'ITR' or code == 'ICT':\n",
    "                concat.at[TYPE, 'Type'] = 'Funds Transfer'\n",
    "                \n",
    "            if code == 'POS':\n",
    "                concat.at[TYPE, 'Type'] = 'Point-Of-Sale'\n",
    "                \n",
    "            if code == 'INT':\n",
    "                concat.at[TYPE, 'Type'] = 'Interest Earned'\n",
    "\n",
    "        concat = concat.reindex(index=concat.index[::-1])\n",
    "        concat.reset_index(drop=True)\n",
    "\n",
    "        concat = concat.loc[~((concat['Date'] == 'Date') & (concat['Code'] == 'Code'))]\n",
    "        concat = concat.loc[~((concat['Debit'] == 'Download') & (concat['Credit'] == 'Print'))]\n",
    "        concat = concat.loc[~((concat['Debit'] == '(Withdrawal)') & concat['Credit'] == '(Deposit)')]\n",
    "        concat = concat.replace('', np.nan)\n",
    "        concat = concat.dropna(thresh=len(concat.columns) - 3)\n",
    "        concat = concat.reset_index(drop=True)\n",
    "        concat = concat.loc[~((concat['Date'].str.contains('Transaction History')))]\n",
    "        concat = concat.reset_index(drop=True)\n",
    "    \n",
    "        return concat"
   ]
  },
  {
   "cell_type": "code",
   "execution_count": 2,
   "metadata": {},
   "outputs": [
    {
     "name": "stderr",
     "output_type": "stream",
     "text": [
      "2023-02-25T17:45:30 - INFO - Processing page-1\n",
      "2023-02-25 17:45:30.936 INFO    camelot: Processing page-1\n",
      "2023-02-25T17:45:31 - INFO - Processing page-2\n",
      "2023-02-25 17:45:31.457 INFO    camelot: Processing page-2\n",
      "2023-02-25T17:45:32 - INFO - Processing page-3\n",
      "2023-02-25 17:45:32.041 INFO    camelot: Processing page-3\n",
      "2023-02-25T17:45:32 - INFO - Processing page-4\n",
      "2023-02-25 17:45:32.536 INFO    camelot: Processing page-4\n",
      "2023-02-25T17:45:33 - INFO - Processing page-5\n",
      "2023-02-25 17:45:33.010 INFO    camelot: Processing page-5\n",
      "2023-02-25T17:45:33 - INFO - Processing page-6\n",
      "2023-02-25 17:45:33.577 INFO    camelot: Processing page-6\n",
      "2023-02-25T17:45:34 - INFO - Processing page-7\n",
      "2023-02-25 17:45:34.055 INFO    camelot: Processing page-7\n",
      "2023-02-25T17:45:34 - INFO - Processing page-8\n",
      "2023-02-25 17:45:34.117 INFO    camelot: Processing page-8\n",
      "2023-02-25T17:45:37 - INFO - Processing page-1\n",
      "2023-02-25 17:45:37.850 INFO    camelot: Processing page-1\n",
      "2023-02-25T17:45:38 - INFO - Processing page-2\n",
      "2023-02-25 17:45:38.370 INFO    camelot: Processing page-2\n",
      "2023-02-25T17:45:38 - INFO - Processing page-3\n",
      "2023-02-25 17:45:38.944 INFO    camelot: Processing page-3\n",
      "2023-02-25T17:45:39 - INFO - Processing page-4\n",
      "2023-02-25 17:45:39.410 INFO    camelot: Processing page-4\n",
      "2023-02-25T17:45:39 - INFO - Processing page-5\n",
      "2023-02-25 17:45:39.960 INFO    camelot: Processing page-5\n",
      "2023-02-25T17:45:40 - INFO - Processing page-6\n",
      "2023-02-25 17:45:40.448 INFO    camelot: Processing page-6\n"
     ]
    },
    {
     "ename": "KeyboardInterrupt",
     "evalue": "",
     "output_type": "error",
     "traceback": [
      "\u001b[1;31m---------------------------------------------------------------------------\u001b[0m",
      "\u001b[1;31mKeyboardInterrupt\u001b[0m                         Traceback (most recent call last)",
      "Cell \u001b[1;32mIn[2], line 7\u001b[0m\n\u001b[0;32m      4\u001b[0m concatList \u001b[39m=\u001b[39m []\n\u001b[0;32m      6\u001b[0m \u001b[39mfor\u001b[39;00m pdf \u001b[39min\u001b[39;00m \u001b[39mrange\u001b[39m(\u001b[39mlen\u001b[39m(filenames)):\n\u001b[1;32m----> 7\u001b[0m     concat \u001b[39m=\u001b[39m parseData(filenames[pdf])\n\u001b[0;32m      8\u001b[0m     concatList\u001b[39m.\u001b[39mappend(concat)\n\u001b[0;32m     10\u001b[0m concat \u001b[39m=\u001b[39m pd\u001b[39m.\u001b[39mconcat(concatList, axis\u001b[39m=\u001b[39m\u001b[39m0\u001b[39m)\n",
      "Cell \u001b[1;32mIn[1], line 13\u001b[0m, in \u001b[0;36mparseData\u001b[1;34m(file)\u001b[0m\n\u001b[0;32m     12\u001b[0m \u001b[39mdef\u001b[39;00m \u001b[39mparseData\u001b[39m(file):\n\u001b[1;32m---> 13\u001b[0m         tables \u001b[39m=\u001b[39m camelot\u001b[39m.\u001b[39;49mread_pdf(\u001b[39mf\u001b[39;49m\u001b[39m'\u001b[39;49m\u001b[39mstatements/\u001b[39;49m\u001b[39m{\u001b[39;49;00mfile\u001b[39m}\u001b[39;49;00m\u001b[39m'\u001b[39;49m, flavor\u001b[39m=\u001b[39;49m\u001b[39m'\u001b[39;49m\u001b[39mstream\u001b[39;49m\u001b[39m'\u001b[39;49m, pages\u001b[39m=\u001b[39;49m\u001b[39m'\u001b[39;49m\u001b[39mall\u001b[39;49m\u001b[39m'\u001b[39;49m)\n\u001b[0;32m     14\u001b[0m         concat \u001b[39m=\u001b[39m tables[\u001b[39m0\u001b[39m]\u001b[39m.\u001b[39mdf\n\u001b[0;32m     16\u001b[0m         \u001b[39m## concatenate all tables into one\u001b[39;00m\n",
      "File \u001b[1;32mc:\\Users\\rutsm\\Downloads\\web-scraper\\env\\Lib\\site-packages\\camelot\\io.py:113\u001b[0m, in \u001b[0;36mread_pdf\u001b[1;34m(filepath, pages, password, flavor, suppress_stdout, layout_kwargs, **kwargs)\u001b[0m\n\u001b[0;32m    111\u001b[0m p \u001b[39m=\u001b[39m PDFHandler(filepath, pages\u001b[39m=\u001b[39mpages, password\u001b[39m=\u001b[39mpassword)\n\u001b[0;32m    112\u001b[0m kwargs \u001b[39m=\u001b[39m remove_extra(kwargs, flavor\u001b[39m=\u001b[39mflavor)\n\u001b[1;32m--> 113\u001b[0m tables \u001b[39m=\u001b[39m p\u001b[39m.\u001b[39;49mparse(\n\u001b[0;32m    114\u001b[0m     flavor\u001b[39m=\u001b[39;49mflavor,\n\u001b[0;32m    115\u001b[0m     suppress_stdout\u001b[39m=\u001b[39;49msuppress_stdout,\n\u001b[0;32m    116\u001b[0m     layout_kwargs\u001b[39m=\u001b[39;49mlayout_kwargs,\n\u001b[0;32m    117\u001b[0m     \u001b[39m*\u001b[39;49m\u001b[39m*\u001b[39;49mkwargs\n\u001b[0;32m    118\u001b[0m )\n\u001b[0;32m    119\u001b[0m \u001b[39mreturn\u001b[39;00m tables\n",
      "File \u001b[1;32mc:\\Users\\rutsm\\Downloads\\web-scraper\\env\\Lib\\site-packages\\camelot\\handlers.py:173\u001b[0m, in \u001b[0;36mPDFHandler.parse\u001b[1;34m(self, flavor, suppress_stdout, layout_kwargs, **kwargs)\u001b[0m\n\u001b[0;32m    171\u001b[0m     parser \u001b[39m=\u001b[39m Lattice(\u001b[39m*\u001b[39m\u001b[39m*\u001b[39mkwargs) \u001b[39mif\u001b[39;00m flavor \u001b[39m==\u001b[39m \u001b[39m\"\u001b[39m\u001b[39mlattice\u001b[39m\u001b[39m\"\u001b[39m \u001b[39melse\u001b[39;00m Stream(\u001b[39m*\u001b[39m\u001b[39m*\u001b[39mkwargs)\n\u001b[0;32m    172\u001b[0m     \u001b[39mfor\u001b[39;00m p \u001b[39min\u001b[39;00m pages:\n\u001b[1;32m--> 173\u001b[0m         t \u001b[39m=\u001b[39m parser\u001b[39m.\u001b[39;49mextract_tables(\n\u001b[0;32m    174\u001b[0m             p, suppress_stdout\u001b[39m=\u001b[39;49msuppress_stdout, layout_kwargs\u001b[39m=\u001b[39;49mlayout_kwargs\n\u001b[0;32m    175\u001b[0m         )\n\u001b[0;32m    176\u001b[0m         tables\u001b[39m.\u001b[39mextend(t)\n\u001b[0;32m    177\u001b[0m \u001b[39mreturn\u001b[39;00m TableList(\u001b[39msorted\u001b[39m(tables))\n",
      "File \u001b[1;32mc:\\Users\\rutsm\\Downloads\\web-scraper\\env\\Lib\\site-packages\\camelot\\parsers\\stream.py:440\u001b[0m, in \u001b[0;36mStream.extract_tables\u001b[1;34m(self, filename, suppress_stdout, layout_kwargs)\u001b[0m\n\u001b[0;32m    439\u001b[0m \u001b[39mdef\u001b[39;00m \u001b[39mextract_tables\u001b[39m(\u001b[39mself\u001b[39m, filename, suppress_stdout\u001b[39m=\u001b[39m\u001b[39mFalse\u001b[39;00m, layout_kwargs\u001b[39m=\u001b[39m{}):\n\u001b[1;32m--> 440\u001b[0m     \u001b[39mself\u001b[39;49m\u001b[39m.\u001b[39;49m_generate_layout(filename, layout_kwargs)\n\u001b[0;32m    441\u001b[0m     base_filename \u001b[39m=\u001b[39m os\u001b[39m.\u001b[39mpath\u001b[39m.\u001b[39mbasename(\u001b[39mself\u001b[39m\u001b[39m.\u001b[39mrootname)\n\u001b[0;32m    443\u001b[0m     \u001b[39mif\u001b[39;00m \u001b[39mnot\u001b[39;00m suppress_stdout:\n",
      "File \u001b[1;32mc:\\Users\\rutsm\\Downloads\\web-scraper\\env\\Lib\\site-packages\\camelot\\parsers\\base.py:14\u001b[0m, in \u001b[0;36mBaseParser._generate_layout\u001b[1;34m(self, filename, layout_kwargs)\u001b[0m\n\u001b[0;32m     12\u001b[0m \u001b[39mself\u001b[39m\u001b[39m.\u001b[39mfilename \u001b[39m=\u001b[39m filename\n\u001b[0;32m     13\u001b[0m \u001b[39mself\u001b[39m\u001b[39m.\u001b[39mlayout_kwargs \u001b[39m=\u001b[39m layout_kwargs\n\u001b[1;32m---> 14\u001b[0m \u001b[39mself\u001b[39m\u001b[39m.\u001b[39mlayout, \u001b[39mself\u001b[39m\u001b[39m.\u001b[39mdimensions \u001b[39m=\u001b[39m get_page_layout(filename, \u001b[39m*\u001b[39;49m\u001b[39m*\u001b[39;49mlayout_kwargs)\n\u001b[0;32m     15\u001b[0m \u001b[39mself\u001b[39m\u001b[39m.\u001b[39mimages \u001b[39m=\u001b[39m get_text_objects(\u001b[39mself\u001b[39m\u001b[39m.\u001b[39mlayout, ltype\u001b[39m=\u001b[39m\u001b[39m\"\u001b[39m\u001b[39mimage\u001b[39m\u001b[39m\"\u001b[39m)\n\u001b[0;32m     16\u001b[0m \u001b[39mself\u001b[39m\u001b[39m.\u001b[39mhorizontal_text \u001b[39m=\u001b[39m get_text_objects(\u001b[39mself\u001b[39m\u001b[39m.\u001b[39mlayout, ltype\u001b[39m=\u001b[39m\u001b[39m\"\u001b[39m\u001b[39mhorizontal_text\u001b[39m\u001b[39m\"\u001b[39m)\n",
      "File \u001b[1;32mc:\\Users\\rutsm\\Downloads\\web-scraper\\env\\Lib\\site-packages\\camelot\\utils.py:893\u001b[0m, in \u001b[0;36mget_page_layout\u001b[1;34m(filename, line_overlap, char_margin, line_margin, word_margin, boxes_flow, detect_vertical, all_texts)\u001b[0m\n\u001b[0;32m    891\u001b[0m interpreter \u001b[39m=\u001b[39m PDFPageInterpreter(rsrcmgr, device)\n\u001b[0;32m    892\u001b[0m \u001b[39mfor\u001b[39;00m page \u001b[39min\u001b[39;00m PDFPage\u001b[39m.\u001b[39mcreate_pages(document):\n\u001b[1;32m--> 893\u001b[0m     interpreter\u001b[39m.\u001b[39;49mprocess_page(page)\n\u001b[0;32m    894\u001b[0m     layout \u001b[39m=\u001b[39m device\u001b[39m.\u001b[39mget_result()\n\u001b[0;32m    895\u001b[0m     width \u001b[39m=\u001b[39m layout\u001b[39m.\u001b[39mbbox[\u001b[39m2\u001b[39m]\n",
      "File \u001b[1;32mc:\\Users\\rutsm\\Downloads\\web-scraper\\env\\Lib\\site-packages\\pdfminer\\pdfinterp.py:997\u001b[0m, in \u001b[0;36mPDFPageInterpreter.process_page\u001b[1;34m(self, page)\u001b[0m\n\u001b[0;32m    995\u001b[0m     ctm \u001b[39m=\u001b[39m (\u001b[39m1\u001b[39m, \u001b[39m0\u001b[39m, \u001b[39m0\u001b[39m, \u001b[39m1\u001b[39m, \u001b[39m-\u001b[39mx0, \u001b[39m-\u001b[39my0)\n\u001b[0;32m    996\u001b[0m \u001b[39mself\u001b[39m\u001b[39m.\u001b[39mdevice\u001b[39m.\u001b[39mbegin_page(page, ctm)\n\u001b[1;32m--> 997\u001b[0m \u001b[39mself\u001b[39;49m\u001b[39m.\u001b[39;49mrender_contents(page\u001b[39m.\u001b[39;49mresources, page\u001b[39m.\u001b[39;49mcontents, ctm\u001b[39m=\u001b[39;49mctm)\n\u001b[0;32m    998\u001b[0m \u001b[39mself\u001b[39m\u001b[39m.\u001b[39mdevice\u001b[39m.\u001b[39mend_page(page)\n\u001b[0;32m    999\u001b[0m \u001b[39mreturn\u001b[39;00m\n",
      "File \u001b[1;32mc:\\Users\\rutsm\\Downloads\\web-scraper\\env\\Lib\\site-packages\\pdfminer\\pdfinterp.py:1016\u001b[0m, in \u001b[0;36mPDFPageInterpreter.render_contents\u001b[1;34m(self, resources, streams, ctm)\u001b[0m\n\u001b[0;32m   1014\u001b[0m \u001b[39mself\u001b[39m\u001b[39m.\u001b[39minit_resources(resources)\n\u001b[0;32m   1015\u001b[0m \u001b[39mself\u001b[39m\u001b[39m.\u001b[39minit_state(ctm)\n\u001b[1;32m-> 1016\u001b[0m \u001b[39mself\u001b[39;49m\u001b[39m.\u001b[39;49mexecute(list_value(streams))\n\u001b[0;32m   1017\u001b[0m \u001b[39mreturn\u001b[39;00m\n",
      "File \u001b[1;32mc:\\Users\\rutsm\\Downloads\\web-scraper\\env\\Lib\\site-packages\\pdfminer\\pdfinterp.py:1027\u001b[0m, in \u001b[0;36mPDFPageInterpreter.execute\u001b[1;34m(self, streams)\u001b[0m\n\u001b[0;32m   1025\u001b[0m \u001b[39mwhile\u001b[39;00m \u001b[39m1\u001b[39m:\n\u001b[0;32m   1026\u001b[0m     \u001b[39mtry\u001b[39;00m:\n\u001b[1;32m-> 1027\u001b[0m         (_, obj) \u001b[39m=\u001b[39m parser\u001b[39m.\u001b[39;49mnextobject()\n\u001b[0;32m   1028\u001b[0m     \u001b[39mexcept\u001b[39;00m PSEOF:\n\u001b[0;32m   1029\u001b[0m         \u001b[39mbreak\u001b[39;00m\n",
      "File \u001b[1;32mc:\\Users\\rutsm\\Downloads\\web-scraper\\env\\Lib\\site-packages\\pdfminer\\psparser.py:669\u001b[0m, in \u001b[0;36mPSStackParser.nextobject\u001b[1;34m(self)\u001b[0m\n\u001b[0;32m    667\u001b[0m         \u001b[39mcontinue\u001b[39;00m\n\u001b[0;32m    668\u001b[0m     \u001b[39melse\u001b[39;00m:\n\u001b[1;32m--> 669\u001b[0m         \u001b[39mself\u001b[39;49m\u001b[39m.\u001b[39;49mflush()\n\u001b[0;32m    670\u001b[0m obj \u001b[39m=\u001b[39m \u001b[39mself\u001b[39m\u001b[39m.\u001b[39mresults\u001b[39m.\u001b[39mpop(\u001b[39m0\u001b[39m)\n\u001b[0;32m    671\u001b[0m \u001b[39mtry\u001b[39;00m:\n",
      "File \u001b[1;32mc:\\Users\\rutsm\\Downloads\\web-scraper\\env\\Lib\\site-packages\\pdfminer\\pdfinterp.py:308\u001b[0m, in \u001b[0;36mPDFContentParser.flush\u001b[1;34m(self)\u001b[0m\n\u001b[0;32m    305\u001b[0m     data \u001b[39m=\u001b[39m re\u001b[39m.\u001b[39msub(\u001b[39mrb\u001b[39m\u001b[39m\"\u001b[39m\u001b[39m(\u001b[39m\u001b[39m\\\u001b[39m\u001b[39mx0d\u001b[39m\u001b[39m\\\u001b[39m\u001b[39mx0a|[\u001b[39m\u001b[39m\\\u001b[39m\u001b[39mx0d\u001b[39m\u001b[39m\\\u001b[39m\u001b[39mx0a])$\u001b[39m\u001b[39m\"\u001b[39m, \u001b[39mb\u001b[39m\u001b[39m\"\u001b[39m\u001b[39m\"\u001b[39m, data)\n\u001b[0;32m    306\u001b[0m     \u001b[39mreturn\u001b[39;00m (pos, data)\n\u001b[1;32m--> 308\u001b[0m \u001b[39mdef\u001b[39;00m \u001b[39mflush\u001b[39m(\u001b[39mself\u001b[39m) \u001b[39m-\u001b[39m\u001b[39m>\u001b[39m \u001b[39mNone\u001b[39;00m:\n\u001b[0;32m    309\u001b[0m     \u001b[39mself\u001b[39m\u001b[39m.\u001b[39madd_results(\u001b[39m*\u001b[39m\u001b[39mself\u001b[39m\u001b[39m.\u001b[39mpopall())\n\u001b[0;32m    311\u001b[0m KEYWORD_BI \u001b[39m=\u001b[39m KWD(\u001b[39mb\u001b[39m\u001b[39m\"\u001b[39m\u001b[39mBI\u001b[39m\u001b[39m\"\u001b[39m)\n",
      "\u001b[1;31mKeyboardInterrupt\u001b[0m: "
     ]
    }
   ],
   "source": [
    "directory = os.getcwd()\n",
    "path = directory + '\\statements'\n",
    "filenames = os.listdir(path)\n",
    "concatList = []\n",
    "\n",
    "for pdf in range(len(filenames)):\n",
    "    concat = parseData(filenames[pdf])\n",
    "    concatList.append(concat)\n",
    "\n",
    "concat = pd.concat(concatList, axis=0)\n",
    "concat = concat.reset_index(drop=True)"
   ]
  },
  {
   "cell_type": "code",
   "execution_count": null,
   "metadata": {},
   "outputs": [],
   "source": [
    "concat['Balance'] = ''\n",
    "final = 204.47\n",
    "concat.at[concat.shape[0]-1, 'Balance'] = 'S$' + str(204.47)\n",
    "index = concat.shape[0]-2\n",
    "\n",
    "totalDr = totalCr = 0\n",
    "for agg in range(len(concat)):\n",
    "\n",
    "    if concat.at[index, 'Debit'] != '':\n",
    "        if isinstance(concat.at[index, 'Debit'], float) == False:\n",
    "            update = final - float(concat.at[index, 'Debit'][2:])\n",
    "            totalDr += float(concat.at[index, 'Debit'][2:])\n",
    "            concat.at[index, 'Balance'] = 'S$' + str(round(update, 2))\n",
    "\n",
    "    if concat.at[index, 'Credit'] != '':\n",
    "        if isinstance(concat.at[index, 'Credit'], float) == False:\n",
    "            update = final + float(concat.at[index, 'Credit'][2:])\n",
    "            totalCr += float(concat.at[index, 'Credit'][2:])\n",
    "            concat.at[index, 'Balance'] = 'S$' + str(round(update, 2))\n",
    "\n",
    "\n",
    "    if index != 0:\n",
    "        index -= 1"
   ]
  },
  {
   "cell_type": "code",
   "execution_count": null,
   "metadata": {},
   "outputs": [
    {
     "data": {
      "text/html": [
       "<div>\n",
       "<style scoped>\n",
       "    .dataframe tbody tr th:only-of-type {\n",
       "        vertical-align: middle;\n",
       "    }\n",
       "\n",
       "    .dataframe tbody tr th {\n",
       "        vertical-align: top;\n",
       "    }\n",
       "\n",
       "    .dataframe thead th {\n",
       "        text-align: right;\n",
       "    }\n",
       "</style>\n",
       "<table border=\"1\" class=\"dataframe\">\n",
       "  <thead>\n",
       "    <tr style=\"text-align: right;\">\n",
       "      <th></th>\n",
       "      <th>Date</th>\n",
       "      <th>Code</th>\n",
       "      <th>Type</th>\n",
       "      <th>Reference</th>\n",
       "      <th>Debit</th>\n",
       "      <th>Credit</th>\n",
       "      <th>Balance</th>\n",
       "    </tr>\n",
       "  </thead>\n",
       "  <tbody>\n",
       "    <tr>\n",
       "      <th>0</th>\n",
       "      <td>28 Nov 2022</td>\n",
       "      <td>ICT</td>\n",
       "      <td>Funds Transfer</td>\n",
       "      <td>FAST / PayNow Transfer Incoming PayNow Ref 394...</td>\n",
       "      <td>NaN</td>\n",
       "      <td>S$80.00</td>\n",
       "      <td>S$284.47</td>\n",
       "    </tr>\n",
       "    <tr>\n",
       "      <th>1</th>\n",
       "      <td>29 Nov 2022</td>\n",
       "      <td>MST</td>\n",
       "      <td>Card Transaction</td>\n",
       "      <td>Debit Card Transaction MCDONALD'S (PLSQ) SI NG...</td>\n",
       "      <td>S$21.75</td>\n",
       "      <td>NaN</td>\n",
       "      <td>S$182.72</td>\n",
       "    </tr>\n",
       "    <tr>\n",
       "      <th>2</th>\n",
       "      <td>29 Nov 2022</td>\n",
       "      <td>MST</td>\n",
       "      <td>Card Transaction</td>\n",
       "      <td>Debit Card Transaction GOJEK 90 10 26NOV 4628-...</td>\n",
       "      <td>S$19.40</td>\n",
       "      <td>NaN</td>\n",
       "      <td>S$185.07</td>\n",
       "    </tr>\n",
       "    <tr>\n",
       "      <th>3</th>\n",
       "      <td>29 Nov 2022</td>\n",
       "      <td>MST</td>\n",
       "      <td>Card Transaction</td>\n",
       "      <td>Debit Card Transaction GOJEK 90 10 27NOV 4628-...</td>\n",
       "      <td>S$28.70</td>\n",
       "      <td>NaN</td>\n",
       "      <td>S$175.77</td>\n",
       "    </tr>\n",
       "    <tr>\n",
       "      <th>4</th>\n",
       "      <td>30 Nov 2022</td>\n",
       "      <td>MST</td>\n",
       "      <td>Card Transaction</td>\n",
       "      <td>Debit Card Transaction GENKI SUSHI-SPC SI NG 2...</td>\n",
       "      <td>S$43.20</td>\n",
       "      <td>NaN</td>\n",
       "      <td>S$161.27</td>\n",
       "    </tr>\n",
       "    <tr>\n",
       "      <th>...</th>\n",
       "      <td>...</td>\n",
       "      <td>...</td>\n",
       "      <td>...</td>\n",
       "      <td>...</td>\n",
       "      <td>...</td>\n",
       "      <td>...</td>\n",
       "      <td>...</td>\n",
       "    </tr>\n",
       "    <tr>\n",
       "      <th>229</th>\n",
       "      <td>19 Feb 2023</td>\n",
       "      <td>MST</td>\n",
       "      <td>Card Transaction</td>\n",
       "      <td>Debit Card Transaction ORDER.PLAC* TONKOTSUKI ...</td>\n",
       "      <td>S$43.60</td>\n",
       "      <td>NaN</td>\n",
       "      <td>S$160.87</td>\n",
       "    </tr>\n",
       "    <tr>\n",
       "      <th>230</th>\n",
       "      <td>19 Feb 2023</td>\n",
       "      <td>MST</td>\n",
       "      <td>Card Transaction</td>\n",
       "      <td>Debit Card Transaction ORDER.PLAC* TONKOTSUKI ...</td>\n",
       "      <td>S$4.65</td>\n",
       "      <td>NaN</td>\n",
       "      <td>S$199.82</td>\n",
       "    </tr>\n",
       "    <tr>\n",
       "      <th>231</th>\n",
       "      <td>19 Feb 2023</td>\n",
       "      <td>MST</td>\n",
       "      <td>Card Transaction</td>\n",
       "      <td>Debit Card Transaction AUNTIE ANNE'S-PAYA LEB ...</td>\n",
       "      <td>S$7.20</td>\n",
       "      <td>NaN</td>\n",
       "      <td>S$197.27</td>\n",
       "    </tr>\n",
       "    <tr>\n",
       "      <th>232</th>\n",
       "      <td>21 Feb 2023</td>\n",
       "      <td>MST</td>\n",
       "      <td>Card Transaction</td>\n",
       "      <td>Debit Card Transaction GRAB SI NG 18FEB 4628-4...</td>\n",
       "      <td>S$19.10</td>\n",
       "      <td>NaN</td>\n",
       "      <td>S$185.37</td>\n",
       "    </tr>\n",
       "    <tr>\n",
       "      <th>233</th>\n",
       "      <td>21 Feb 2023</td>\n",
       "      <td>MST</td>\n",
       "      <td>Card Transaction</td>\n",
       "      <td>Debit Card Transaction GOJEK 90 10 19FEB 4628-...</td>\n",
       "      <td>S$19.00</td>\n",
       "      <td>NaN</td>\n",
       "      <td>S$204.47</td>\n",
       "    </tr>\n",
       "  </tbody>\n",
       "</table>\n",
       "<p>234 rows × 7 columns</p>\n",
       "</div>"
      ],
      "text/plain": [
       "            Date Code              Type  \\\n",
       "0    28 Nov 2022  ICT    Funds Transfer   \n",
       "1    29 Nov 2022  MST  Card Transaction   \n",
       "2    29 Nov 2022  MST  Card Transaction   \n",
       "3    29 Nov 2022  MST  Card Transaction   \n",
       "4    30 Nov 2022  MST  Card Transaction   \n",
       "..           ...  ...               ...   \n",
       "229  19 Feb 2023  MST  Card Transaction   \n",
       "230  19 Feb 2023  MST  Card Transaction   \n",
       "231  19 Feb 2023  MST  Card Transaction   \n",
       "232  21 Feb 2023  MST  Card Transaction   \n",
       "233  21 Feb 2023  MST  Card Transaction   \n",
       "\n",
       "                                             Reference    Debit   Credit  \\\n",
       "0    FAST / PayNow Transfer Incoming PayNow Ref 394...      NaN  S$80.00   \n",
       "1    Debit Card Transaction MCDONALD'S (PLSQ) SI NG...  S$21.75      NaN   \n",
       "2    Debit Card Transaction GOJEK 90 10 26NOV 4628-...  S$19.40      NaN   \n",
       "3    Debit Card Transaction GOJEK 90 10 27NOV 4628-...  S$28.70      NaN   \n",
       "4    Debit Card Transaction GENKI SUSHI-SPC SI NG 2...  S$43.20      NaN   \n",
       "..                                                 ...      ...      ...   \n",
       "229  Debit Card Transaction ORDER.PLAC* TONKOTSUKI ...  S$43.60      NaN   \n",
       "230  Debit Card Transaction ORDER.PLAC* TONKOTSUKI ...   S$4.65      NaN   \n",
       "231  Debit Card Transaction AUNTIE ANNE'S-PAYA LEB ...   S$7.20      NaN   \n",
       "232  Debit Card Transaction GRAB SI NG 18FEB 4628-4...  S$19.10      NaN   \n",
       "233  Debit Card Transaction GOJEK 90 10 19FEB 4628-...  S$19.00      NaN   \n",
       "\n",
       "      Balance  \n",
       "0    S$284.47  \n",
       "1    S$182.72  \n",
       "2    S$185.07  \n",
       "3    S$175.77  \n",
       "4    S$161.27  \n",
       "..        ...  \n",
       "229  S$160.87  \n",
       "230  S$199.82  \n",
       "231  S$197.27  \n",
       "232  S$185.37  \n",
       "233  S$204.47  \n",
       "\n",
       "[234 rows x 7 columns]"
      ]
     },
     "execution_count": 6,
     "metadata": {},
     "output_type": "execute_result"
    }
   ],
   "source": [
    "concat"
   ]
  },
  {
   "cell_type": "code",
   "execution_count": null,
   "metadata": {},
   "outputs": [
    {
     "data": {
      "application/vnd.plotly.v1+json": {
       "config": {
        "plotlyServerURL": "https://plot.ly"
       },
       "data": [
        {
         "alignmentgroup": "True",
         "hovertemplate": "variable=Debit<br>Date=%{x}<br>value=%{y}<extra></extra>",
         "legendgroup": "Debit",
         "marker": {
          "color": "rgb(228,26,28)",
          "pattern": {
           "shape": ""
          }
         },
         "name": "Debit",
         "offsetgroup": "Debit",
         "orientation": "v",
         "showlegend": true,
         "textposition": "auto",
         "type": "bar",
         "x": [
          "2022",
          "2023"
         ],
         "xaxis": "x",
         "y": [
          1381.16,
          3715.32
         ],
         "yaxis": "y"
        },
        {
         "alignmentgroup": "True",
         "hovertemplate": "variable=Credit<br>Date=%{x}<br>value=%{y}<extra></extra>",
         "legendgroup": "Credit",
         "marker": {
          "color": "rgb(55,126,184)",
          "pattern": {
           "shape": ""
          }
         },
         "name": "Credit",
         "offsetgroup": "Credit",
         "orientation": "v",
         "showlegend": true,
         "textposition": "auto",
         "type": "bar",
         "x": [
          "2022",
          "2023"
         ],
         "xaxis": "x",
         "y": [
          1338.38,
          3657.74
         ],
         "yaxis": "y"
        }
       ],
       "layout": {
        "barmode": "group",
        "legend": {
         "title": {
          "text": "variable"
         },
         "tracegroupgap": 0
        },
        "margin": {
         "t": 60
        },
        "template": {
         "data": {
          "candlestick": [
           {
            "decreasing": {
             "line": {
              "color": "#000033"
             }
            },
            "increasing": {
             "line": {
              "color": "#000032"
             }
            },
            "type": "candlestick"
           }
          ],
          "contour": [
           {
            "colorscale": [
             [
              0,
              "#000011"
             ],
             [
              0.1111111111111111,
              "#000012"
             ],
             [
              0.2222222222222222,
              "#000013"
             ],
             [
              0.3333333333333333,
              "#000014"
             ],
             [
              0.4444444444444444,
              "#000015"
             ],
             [
              0.5555555555555556,
              "#000016"
             ],
             [
              0.6666666666666666,
              "#000017"
             ],
             [
              0.7777777777777778,
              "#000018"
             ],
             [
              0.8888888888888888,
              "#000019"
             ],
             [
              1,
              "#000020"
             ]
            ],
            "type": "contour"
           }
          ],
          "contourcarpet": [
           {
            "colorscale": [
             [
              0,
              "#000011"
             ],
             [
              0.1111111111111111,
              "#000012"
             ],
             [
              0.2222222222222222,
              "#000013"
             ],
             [
              0.3333333333333333,
              "#000014"
             ],
             [
              0.4444444444444444,
              "#000015"
             ],
             [
              0.5555555555555556,
              "#000016"
             ],
             [
              0.6666666666666666,
              "#000017"
             ],
             [
              0.7777777777777778,
              "#000018"
             ],
             [
              0.8888888888888888,
              "#000019"
             ],
             [
              1,
              "#000020"
             ]
            ],
            "type": "contourcarpet"
           }
          ],
          "heatmap": [
           {
            "colorscale": [
             [
              0,
              "#000011"
             ],
             [
              0.1111111111111111,
              "#000012"
             ],
             [
              0.2222222222222222,
              "#000013"
             ],
             [
              0.3333333333333333,
              "#000014"
             ],
             [
              0.4444444444444444,
              "#000015"
             ],
             [
              0.5555555555555556,
              "#000016"
             ],
             [
              0.6666666666666666,
              "#000017"
             ],
             [
              0.7777777777777778,
              "#000018"
             ],
             [
              0.8888888888888888,
              "#000019"
             ],
             [
              1,
              "#000020"
             ]
            ],
            "type": "heatmap"
           }
          ],
          "histogram2d": [
           {
            "colorscale": [
             [
              0,
              "#000011"
             ],
             [
              0.1111111111111111,
              "#000012"
             ],
             [
              0.2222222222222222,
              "#000013"
             ],
             [
              0.3333333333333333,
              "#000014"
             ],
             [
              0.4444444444444444,
              "#000015"
             ],
             [
              0.5555555555555556,
              "#000016"
             ],
             [
              0.6666666666666666,
              "#000017"
             ],
             [
              0.7777777777777778,
              "#000018"
             ],
             [
              0.8888888888888888,
              "#000019"
             ],
             [
              1,
              "#000020"
             ]
            ],
            "type": "histogram2d"
           }
          ],
          "icicle": [
           {
            "textfont": {
             "color": "white"
            },
            "type": "icicle"
           }
          ],
          "sankey": [
           {
            "textfont": {
             "color": "#000036"
            },
            "type": "sankey"
           }
          ],
          "scatter": [
           {
            "marker": {
             "line": {
              "width": 0
             }
            },
            "type": "scatter"
           }
          ],
          "table": [
           {
            "cells": {
             "fill": {
              "color": "#000038"
             },
             "font": {
              "color": "#000037"
             },
             "line": {
              "color": "#000039"
             }
            },
            "header": {
             "fill": {
              "color": "#000040"
             },
             "font": {
              "color": "#000036"
             },
             "line": {
              "color": "#000039"
             }
            },
            "type": "table"
           }
          ],
          "waterfall": [
           {
            "connector": {
             "line": {
              "color": "#000036",
              "width": 2
             }
            },
            "decreasing": {
             "marker": {
              "color": "#000033"
             }
            },
            "increasing": {
             "marker": {
              "color": "#000032"
             }
            },
            "totals": {
             "marker": {
              "color": "#000034"
             }
            },
            "type": "waterfall"
           }
          ]
         },
         "layout": {
          "coloraxis": {
           "colorscale": [
            [
             0,
             "#000011"
            ],
            [
             0.1111111111111111,
             "#000012"
            ],
            [
             0.2222222222222222,
             "#000013"
            ],
            [
             0.3333333333333333,
             "#000014"
            ],
            [
             0.4444444444444444,
             "#000015"
            ],
            [
             0.5555555555555556,
             "#000016"
            ],
            [
             0.6666666666666666,
             "#000017"
            ],
            [
             0.7777777777777778,
             "#000018"
            ],
            [
             0.8888888888888888,
             "#000019"
            ],
            [
             1,
             "#000020"
            ]
           ]
          },
          "colorscale": {
           "diverging": [
            [
             0,
             "#000021"
            ],
            [
             0.1,
             "#000022"
            ],
            [
             0.2,
             "#000023"
            ],
            [
             0.3,
             "#000024"
            ],
            [
             0.4,
             "#000025"
            ],
            [
             0.5,
             "#000026"
            ],
            [
             0.6,
             "#000027"
            ],
            [
             0.7,
             "#000028"
            ],
            [
             0.8,
             "#000029"
            ],
            [
             0.9,
             "#000030"
            ],
            [
             1,
             "#000031"
            ]
           ],
           "sequential": [
            [
             0,
             "#000011"
            ],
            [
             0.1111111111111111,
             "#000012"
            ],
            [
             0.2222222222222222,
             "#000013"
            ],
            [
             0.3333333333333333,
             "#000014"
            ],
            [
             0.4444444444444444,
             "#000015"
            ],
            [
             0.5555555555555556,
             "#000016"
            ],
            [
             0.6666666666666666,
             "#000017"
            ],
            [
             0.7777777777777778,
             "#000018"
            ],
            [
             0.8888888888888888,
             "#000019"
            ],
            [
             1,
             "#000020"
            ]
           ],
           "sequentialminus": [
            [
             0,
             "#000011"
            ],
            [
             0.1111111111111111,
             "#000012"
            ],
            [
             0.2222222222222222,
             "#000013"
            ],
            [
             0.3333333333333333,
             "#000014"
            ],
            [
             0.4444444444444444,
             "#000015"
            ],
            [
             0.5555555555555556,
             "#000016"
            ],
            [
             0.6666666666666666,
             "#000017"
            ],
            [
             0.7777777777777778,
             "#000018"
            ],
            [
             0.8888888888888888,
             "#000019"
            ],
            [
             1,
             "#000020"
            ]
           ]
          },
          "colorway": [
           "#000001",
           "#000002",
           "#000003",
           "#000004",
           "#000005",
           "#000006",
           "#000007",
           "#000008",
           "#000009",
           "#000010"
          ]
         }
        },
        "title": {
         "text": "Total Debit and Credit Amounts by Year"
        },
        "xaxis": {
         "anchor": "y",
         "domain": [
          0,
          1
         ],
         "title": {
          "text": "Year"
         }
        },
        "yaxis": {
         "anchor": "x",
         "domain": [
          0,
          1
         ],
         "title": {
          "text": "Amount"
         }
        }
       }
      }
     },
     "metadata": {},
     "output_type": "display_data"
    }
   ],
   "source": [
    "def totalDrCr():\n",
    "    sumDF = concat.copy()\n",
    "    sumDF['Debit'] = sumDF['Debit'].str[2:]\n",
    "    sumDF['Credit'] = sumDF['Credit'].str[2:]\n",
    "\n",
    "    sumDF['Debit'] = sumDF['Debit'].astype(float)\n",
    "    sumDF['Credit'] = sumDF['Credit'].astype(float)\n",
    "    sumDF['Date'] = sumDF['Date'].str[-4:]\n",
    "\n",
    "    years = sumDF['Date'].unique()\n",
    "\n",
    "    color_map = {'Debit': 'rgb(228,26,28)', 'Credit': 'rgb(55,126,184)'}\n",
    "\n",
    "    grouped_df = sumDF.groupby('Date').agg({'Debit': 'sum', 'Credit': 'sum'}).reset_index()\n",
    "\n",
    "    # Create a bar chart of total debit and credit amounts by year\n",
    "    fig = px.bar(grouped_df, x='Date', y=['Debit', 'Credit'], barmode='group', color_discrete_map=color_map)\n",
    "\n",
    "    # Add axis labels and title\n",
    "    fig.update_layout(\n",
    "        xaxis_title=\"Year\",\n",
    "        yaxis_title=\"Amount\",\n",
    "        title=\"Total Debit and Credit Amounts by Year\"\n",
    "    )\n",
    "\n",
    "\n",
    "    return fig\n",
    "\n",
    "totalDrCr()"
   ]
  }
 ],
 "metadata": {
  "kernelspec": {
   "display_name": ".venv",
   "language": "python",
   "name": "python3"
  },
  "language_info": {
   "codemirror_mode": {
    "name": "ipython",
    "version": 3
   },
   "file_extension": ".py",
   "mimetype": "text/x-python",
   "name": "python",
   "nbconvert_exporter": "python",
   "pygments_lexer": "ipython3",
   "version": "3.9.1"
  },
  "orig_nbformat": 4,
  "vscode": {
   "interpreter": {
    "hash": "1d3e5efee62722c7ad7e9d5ef7e2465b8407dc5f57bce9a09e1a9443b0623e2c"
   }
  }
 },
 "nbformat": 4,
 "nbformat_minor": 2
}
