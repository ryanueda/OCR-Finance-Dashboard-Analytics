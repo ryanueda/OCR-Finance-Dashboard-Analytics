{
 "cells": [
  {
   "cell_type": "code",
   "execution_count": 53,
   "metadata": {},
   "outputs": [],
   "source": [
    "import camelot\n",
    "import numpy as np\n",
    "import pandas as pd\n",
    "import matplotlib.pyplot as plt\n",
    "from datetime import datetime\n",
    "import os"
   ]
  },
  {
   "cell_type": "code",
   "execution_count": 54,
   "metadata": {},
   "outputs": [
    {
     "data": {
      "text/plain": [
       "['statement_1.pdf']"
      ]
     },
     "execution_count": 54,
     "metadata": {},
     "output_type": "execute_result"
    }
   ],
   "source": [
    "directory = os.getcwd()\n",
    "path = directory + '\\statements'\n",
    "filenames = os.listdir(path)\n",
    "filenames"
   ]
  },
  {
   "cell_type": "code",
   "execution_count": 55,
   "metadata": {},
   "outputs": [],
   "source": [
    "concat = []\n",
    "for pdf in range(len(filenames)):\n",
    "    tables = camelot.read_pdf(f'statements/{filenames[pdf]}', flavor='stream', pages='all')\n",
    "\n",
    "    ## create concat df\n",
    "    temp = tables[0].df.copy()\n",
    "\n",
    "    ## concatenate all tables into one\n",
    "    for i in range(1, len(tables)):\n",
    "        temp = pd.concat([temp, tables[i].df])\n",
    "\n",
    "    concat.append(temp)\n",
    "concat = pd.concat(concat)\n",
    "\n",
    "\n",
    "## filter out nonsensical data\n",
    "concat = concat[~concat.apply(lambda row: row.astype(str).str.contains('about:blank')).any(axis=1)]\n",
    "\n",
    "## reset index of df\n",
    "concat = concat.reset_index(drop=True)\n",
    "\n",
    "if concat.shape[-1] == 7:\n",
    "    concat = concat.drop(concat.columns[-1], axis=1)\n",
    "\n",
    "## rename columns\n",
    "concat.columns = ['Date', 'Code', 'Reference', 'Debit', 'Credit', 'Extra']\n",
    "\n",
    "## handle bad formatting\n",
    "for row in range(len(concat)):\n",
    "    value = concat.at[row, 'Credit']\n",
    "    extraVal = concat.at[row, 'Extra']\n",
    "    \n",
    "    if value != '':\n",
    "        concat.at[row, 'Debit'] = value\n",
    "        concat.at[row, 'Credit'] = ''\n",
    "    \n",
    "    if extraVal != '':\n",
    "        concat.at[row, 'Credit'] = extraVal\n",
    "        concat.at[row, 'Extra'] = ''\n",
    "        \n",
    "## drop useless column\n",
    "concat = concat.drop(columns=['Extra'])\n",
    "\n",
    "firstCell = concat.at[0, 'Date']\n",
    "secondCell = concat.at[1, 'Debit']\n",
    "thirdCell = concat.at[2, 'Debit']\n",
    "fourthCell = concat.at[3, 'Debit']\n",
    "\n",
    "if firstCell.split(' ')[0] == 'Transaction':\n",
    "    concat = concat.drop([0])\n",
    "    \n",
    "if secondCell == 'Download':\n",
    "    concat = concat.drop([1])\n",
    "    \n",
    "if thirdCell == 'Debit':\n",
    "    concat = concat.drop([2])\n",
    "    \n",
    "if fourthCell == '(Withdrawal)':\n",
    "    concat = concat.drop([3])\n",
    "    \n",
    "concat = concat.reset_index(drop=True)"
   ]
  },
  {
   "cell_type": "code",
   "execution_count": 56,
   "metadata": {},
   "outputs": [],
   "source": [
    "concat['Type'] = ''\n",
    "concat = concat.reindex(columns=['Date', 'Code', 'Type', 'Reference', 'Debit', 'Credit'])"
   ]
  },
  {
   "cell_type": "code",
   "execution_count": 38,
   "metadata": {},
   "outputs": [
    {
     "data": {
      "text/html": [
       "<div>\n",
       "<style scoped>\n",
       "    .dataframe tbody tr th:only-of-type {\n",
       "        vertical-align: middle;\n",
       "    }\n",
       "\n",
       "    .dataframe tbody tr th {\n",
       "        vertical-align: top;\n",
       "    }\n",
       "\n",
       "    .dataframe thead th {\n",
       "        text-align: right;\n",
       "    }\n",
       "</style>\n",
       "<table border=\"1\" class=\"dataframe\">\n",
       "  <thead>\n",
       "    <tr style=\"text-align: right;\">\n",
       "      <th></th>\n",
       "      <th>Date</th>\n",
       "      <th>Code</th>\n",
       "      <th>Type</th>\n",
       "      <th>Reference</th>\n",
       "      <th>Debit</th>\n",
       "      <th>Credit</th>\n",
       "    </tr>\n",
       "  </thead>\n",
       "  <tbody>\n",
       "    <tr>\n",
       "      <th>0</th>\n",
       "      <td>26 Nov 2022</td>\n",
       "      <td>POS</td>\n",
       "      <td></td>\n",
       "      <td>Point-of-Sale Transaction</td>\n",
       "      <td>S$23.25</td>\n",
       "      <td></td>\n",
       "    </tr>\n",
       "    <tr>\n",
       "      <th>1</th>\n",
       "      <td></td>\n",
       "      <td></td>\n",
       "      <td></td>\n",
       "      <td>43375097,JOLLIBEE NETS</td>\n",
       "      <td></td>\n",
       "      <td></td>\n",
       "    </tr>\n",
       "    <tr>\n",
       "      <th>2</th>\n",
       "      <td>25 Nov 2022</td>\n",
       "      <td>POS</td>\n",
       "      <td></td>\n",
       "      <td>Point-of-Sale Transaction</td>\n",
       "      <td>S$1.20</td>\n",
       "      <td></td>\n",
       "    </tr>\n",
       "    <tr>\n",
       "      <th>3</th>\n",
       "      <td></td>\n",
       "      <td></td>\n",
       "      <td></td>\n",
       "      <td>43375097,CANOPY COFFEE CLUB</td>\n",
       "      <td></td>\n",
       "      <td></td>\n",
       "    </tr>\n",
       "    <tr>\n",
       "      <th>4</th>\n",
       "      <td></td>\n",
       "      <td></td>\n",
       "      <td></td>\n",
       "      <td>NETS</td>\n",
       "      <td></td>\n",
       "      <td></td>\n",
       "    </tr>\n",
       "    <tr>\n",
       "      <th>...</th>\n",
       "      <td>...</td>\n",
       "      <td>...</td>\n",
       "      <td>...</td>\n",
       "      <td>...</td>\n",
       "      <td>...</td>\n",
       "      <td>...</td>\n",
       "    </tr>\n",
       "    <tr>\n",
       "      <th>585</th>\n",
       "      <td></td>\n",
       "      <td></td>\n",
       "      <td></td>\n",
       "      <td>BOOST JUICE RCS SI NG 30AUG</td>\n",
       "      <td></td>\n",
       "      <td></td>\n",
       "    </tr>\n",
       "    <tr>\n",
       "      <th>586</th>\n",
       "      <td></td>\n",
       "      <td></td>\n",
       "      <td></td>\n",
       "      <td>4628-4500-4337-5097</td>\n",
       "      <td></td>\n",
       "      <td></td>\n",
       "    </tr>\n",
       "    <tr>\n",
       "      <th>587</th>\n",
       "      <td>29 Aug 2022</td>\n",
       "      <td>ITR</td>\n",
       "      <td></td>\n",
       "      <td>Funds Transfer</td>\n",
       "      <td></td>\n",
       "      <td>S$80.00</td>\n",
       "    </tr>\n",
       "    <tr>\n",
       "      <th>588</th>\n",
       "      <td></td>\n",
       "      <td></td>\n",
       "      <td></td>\n",
       "      <td>009-1-024105 : I-BANK</td>\n",
       "      <td></td>\n",
       "      <td></td>\n",
       "    </tr>\n",
       "    <tr>\n",
       "      <th>589</th>\n",
       "      <td></td>\n",
       "      <td></td>\n",
       "      <td></td>\n",
       "      <td></td>\n",
       "      <td>S$1,814.77</td>\n",
       "      <td>S$1,825.76</td>\n",
       "    </tr>\n",
       "  </tbody>\n",
       "</table>\n",
       "<p>590 rows × 6 columns</p>\n",
       "</div>"
      ],
      "text/plain": [
       "            Date Code Type                    Reference       Debit  \\\n",
       "0    26 Nov 2022  POS         Point-of-Sale Transaction     S$23.25   \n",
       "1                                43375097,JOLLIBEE NETS               \n",
       "2    25 Nov 2022  POS         Point-of-Sale Transaction      S$1.20   \n",
       "3                           43375097,CANOPY COFFEE CLUB               \n",
       "4                                                  NETS               \n",
       "..           ...  ...  ...                          ...         ...   \n",
       "585                         BOOST JUICE RCS SI NG 30AUG               \n",
       "586                                 4628-4500-4337-5097               \n",
       "587  29 Aug 2022  ITR                    Funds Transfer               \n",
       "588                               009-1-024105 : I-BANK               \n",
       "589                                                      S$1,814.77   \n",
       "\n",
       "         Credit  \n",
       "0                \n",
       "1                \n",
       "2                \n",
       "3                \n",
       "4                \n",
       "..          ...  \n",
       "585              \n",
       "586              \n",
       "587     S$80.00  \n",
       "588              \n",
       "589  S$1,825.76  \n",
       "\n",
       "[590 rows x 6 columns]"
      ]
     },
     "execution_count": 38,
     "metadata": {},
     "output_type": "execute_result"
    }
   ],
   "source": [
    "concat"
   ]
  },
  {
   "cell_type": "code",
   "execution_count": 57,
   "metadata": {},
   "outputs": [],
   "source": [
    "for a in range(len(concat)):\n",
    "    code = concat.at[a, 'Code']\n",
    "    steps = 0\n",
    "    \n",
    "    if code != '':\n",
    "        addArr = []\n",
    "        index = a + 1\n",
    "        \n",
    "        while True:\n",
    "            if index > len(concat)-1:\n",
    "                break\n",
    "                \n",
    "            check = concat.at[index, 'Code']\n",
    "            if check == '':\n",
    "                addArr.append(concat.at[index, 'Reference'])\n",
    "                steps += 1\n",
    "                index += 1\n",
    "            else:\n",
    "                break\n",
    "            \n",
    "        for step in range(steps):\n",
    "            if concat.at[a, 'Reference'][-1] == '-' or concat.at[a, 'Reference'][-1].isdigit() == True:\n",
    "                concat.at[a, 'Reference'] += concat.at[a+step+1, 'Reference']\n",
    "            else:\n",
    "                concat.at[a, 'Reference'] += ' ' + concat.at[a+step+1, 'Reference']\n",
    "                \n",
    "            concat.at[a+step+1, 'Reference'] = ''"
   ]
  },
  {
   "cell_type": "code",
   "execution_count": 58,
   "metadata": {},
   "outputs": [],
   "source": [
    "## remove all empty rows\n",
    "concat = concat.loc[~(concat == '').all(axis=1)]\n",
    "concat = concat.reset_index(drop=True)"
   ]
  },
  {
   "cell_type": "code",
   "execution_count": 59,
   "metadata": {},
   "outputs": [],
   "source": [
    "if concat.at[concat.shape[0]-1, 'Debit'] != '' and concat.at[concat.shape[0]-1, 'Credit'] != '':\n",
    "    DrBal = concat.at[concat.shape[0]-1, 'Debit']\n",
    "    CrBal = concat.at[concat.shape[0]-1, 'Credit']\n",
    "    concat = concat.drop(concat.index[-1])"
   ]
  },
  {
   "cell_type": "code",
   "execution_count": 60,
   "metadata": {},
   "outputs": [
    {
     "data": {
      "text/html": [
       "<div>\n",
       "<style scoped>\n",
       "    .dataframe tbody tr th:only-of-type {\n",
       "        vertical-align: middle;\n",
       "    }\n",
       "\n",
       "    .dataframe tbody tr th {\n",
       "        vertical-align: top;\n",
       "    }\n",
       "\n",
       "    .dataframe thead th {\n",
       "        text-align: right;\n",
       "    }\n",
       "</style>\n",
       "<table border=\"1\" class=\"dataframe\">\n",
       "  <thead>\n",
       "    <tr style=\"text-align: right;\">\n",
       "      <th></th>\n",
       "      <th>Date</th>\n",
       "      <th>Code</th>\n",
       "      <th>Type</th>\n",
       "      <th>Reference</th>\n",
       "      <th>Debit</th>\n",
       "      <th>Credit</th>\n",
       "    </tr>\n",
       "  </thead>\n",
       "  <tbody>\n",
       "    <tr>\n",
       "      <th>0</th>\n",
       "      <td>26 Nov 2022</td>\n",
       "      <td>POS</td>\n",
       "      <td></td>\n",
       "      <td>Point-of-Sale Transaction 43375097,JOLLIBEE NETS</td>\n",
       "      <td>S$23.25</td>\n",
       "      <td></td>\n",
       "    </tr>\n",
       "    <tr>\n",
       "      <th>1</th>\n",
       "      <td>25 Nov 2022</td>\n",
       "      <td>POS</td>\n",
       "      <td></td>\n",
       "      <td>Point-of-Sale Transaction 43375097,CANOPY COFF...</td>\n",
       "      <td>S$1.20</td>\n",
       "      <td></td>\n",
       "    </tr>\n",
       "    <tr>\n",
       "      <th>2</th>\n",
       "      <td>25 Nov 2022</td>\n",
       "      <td>MST</td>\n",
       "      <td></td>\n",
       "      <td>Debit Card Transaction KOUFU PTE LTD SI NG 24N...</td>\n",
       "      <td>S$23.30</td>\n",
       "      <td></td>\n",
       "    </tr>\n",
       "    <tr>\n",
       "      <th>3</th>\n",
       "      <td>23 Nov 2022</td>\n",
       "      <td>MST</td>\n",
       "      <td></td>\n",
       "      <td>Debit Card Transaction NET*NETSMM SI NG 21NOV ...</td>\n",
       "      <td>S$7.20</td>\n",
       "      <td></td>\n",
       "    </tr>\n",
       "    <tr>\n",
       "      <th>4</th>\n",
       "      <td>23 Nov 2022</td>\n",
       "      <td>MST</td>\n",
       "      <td></td>\n",
       "      <td>Debit Card Transaction DIN TAI FUNG-JEM SI NG ...</td>\n",
       "      <td>S$57.20</td>\n",
       "      <td></td>\n",
       "    </tr>\n",
       "    <tr>\n",
       "      <th>...</th>\n",
       "      <td>...</td>\n",
       "      <td>...</td>\n",
       "      <td>...</td>\n",
       "      <td>...</td>\n",
       "      <td>...</td>\n",
       "      <td>...</td>\n",
       "    </tr>\n",
       "    <tr>\n",
       "      <th>99</th>\n",
       "      <td>01 Sep 2022</td>\n",
       "      <td>MST</td>\n",
       "      <td></td>\n",
       "      <td>Debit Card Transaction IPPUDO - RAFFLES CITY S...</td>\n",
       "      <td>S$68.68</td>\n",
       "      <td></td>\n",
       "    </tr>\n",
       "    <tr>\n",
       "      <th>100</th>\n",
       "      <td>31 Aug 2022</td>\n",
       "      <td>INT</td>\n",
       "      <td></td>\n",
       "      <td>Interest Earned</td>\n",
       "      <td></td>\n",
       "      <td>S$0.01</td>\n",
       "    </tr>\n",
       "    <tr>\n",
       "      <th>101</th>\n",
       "      <td>31 Aug 2022</td>\n",
       "      <td>ITR</td>\n",
       "      <td></td>\n",
       "      <td>Funds Transfer 009-1-024105 : I-BANK</td>\n",
       "      <td></td>\n",
       "      <td>S$17.00</td>\n",
       "    </tr>\n",
       "    <tr>\n",
       "      <th>102</th>\n",
       "      <td>31 Aug 2022</td>\n",
       "      <td>MST</td>\n",
       "      <td></td>\n",
       "      <td>Debit Card Transaction BOOST JUICE RCS SI NG 3...</td>\n",
       "      <td>S$11.00</td>\n",
       "      <td></td>\n",
       "    </tr>\n",
       "    <tr>\n",
       "      <th>103</th>\n",
       "      <td>29 Aug 2022</td>\n",
       "      <td>ITR</td>\n",
       "      <td></td>\n",
       "      <td>Funds Transfer 009-1-024105 : I-BANK</td>\n",
       "      <td></td>\n",
       "      <td>S$80.00</td>\n",
       "    </tr>\n",
       "  </tbody>\n",
       "</table>\n",
       "<p>104 rows × 6 columns</p>\n",
       "</div>"
      ],
      "text/plain": [
       "            Date Code Type                                          Reference  \\\n",
       "0    26 Nov 2022  POS        Point-of-Sale Transaction 43375097,JOLLIBEE NETS   \n",
       "1    25 Nov 2022  POS       Point-of-Sale Transaction 43375097,CANOPY COFF...   \n",
       "2    25 Nov 2022  MST       Debit Card Transaction KOUFU PTE LTD SI NG 24N...   \n",
       "3    23 Nov 2022  MST       Debit Card Transaction NET*NETSMM SI NG 21NOV ...   \n",
       "4    23 Nov 2022  MST       Debit Card Transaction DIN TAI FUNG-JEM SI NG ...   \n",
       "..           ...  ...  ...                                                ...   \n",
       "99   01 Sep 2022  MST       Debit Card Transaction IPPUDO - RAFFLES CITY S...   \n",
       "100  31 Aug 2022  INT                                         Interest Earned   \n",
       "101  31 Aug 2022  ITR                    Funds Transfer 009-1-024105 : I-BANK   \n",
       "102  31 Aug 2022  MST       Debit Card Transaction BOOST JUICE RCS SI NG 3...   \n",
       "103  29 Aug 2022  ITR                   Funds Transfer 009-1-024105 : I-BANK    \n",
       "\n",
       "       Debit   Credit  \n",
       "0    S$23.25           \n",
       "1     S$1.20           \n",
       "2    S$23.30           \n",
       "3     S$7.20           \n",
       "4    S$57.20           \n",
       "..       ...      ...  \n",
       "99   S$68.68           \n",
       "100            S$0.01  \n",
       "101           S$17.00  \n",
       "102  S$11.00           \n",
       "103           S$80.00  \n",
       "\n",
       "[104 rows x 6 columns]"
      ]
     },
     "execution_count": 60,
     "metadata": {},
     "output_type": "execute_result"
    }
   ],
   "source": [
    "concat"
   ]
  },
  {
   "cell_type": "code",
   "execution_count": 61,
   "metadata": {},
   "outputs": [],
   "source": [
    "for TYPE in range(len(concat)):\n",
    "    code = concat.at[TYPE, 'Code']\n",
    "    \n",
    "    if code == 'MST':\n",
    "        concat.at[TYPE, 'Type'] = 'Card Transaction'\n",
    "        \n",
    "    if code == 'ITR' or code == 'ICT':\n",
    "        concat.at[TYPE, 'Type'] = 'Funds Transfer'\n",
    "        \n",
    "    if code == 'POS':\n",
    "        concat.at[TYPE, 'Type'] = 'Point-Of-Sale'\n",
    "        \n",
    "    if code == 'INT':\n",
    "        concat.at[TYPE, 'Type'] = 'Interest Earned'"
   ]
  },
  {
   "cell_type": "code",
   "execution_count": 62,
   "metadata": {},
   "outputs": [
    {
     "data": {
      "text/html": [
       "<div>\n",
       "<style scoped>\n",
       "    .dataframe tbody tr th:only-of-type {\n",
       "        vertical-align: middle;\n",
       "    }\n",
       "\n",
       "    .dataframe tbody tr th {\n",
       "        vertical-align: top;\n",
       "    }\n",
       "\n",
       "    .dataframe thead th {\n",
       "        text-align: right;\n",
       "    }\n",
       "</style>\n",
       "<table border=\"1\" class=\"dataframe\">\n",
       "  <thead>\n",
       "    <tr style=\"text-align: right;\">\n",
       "      <th></th>\n",
       "      <th>Date</th>\n",
       "      <th>Code</th>\n",
       "      <th>Type</th>\n",
       "      <th>Reference</th>\n",
       "      <th>Debit</th>\n",
       "      <th>Credit</th>\n",
       "    </tr>\n",
       "  </thead>\n",
       "  <tbody>\n",
       "    <tr>\n",
       "      <th>0</th>\n",
       "      <td>29 Aug 2022</td>\n",
       "      <td>ITR</td>\n",
       "      <td>Funds Transfer</td>\n",
       "      <td>Funds Transfer 009-1-024105 : I-BANK</td>\n",
       "      <td></td>\n",
       "      <td>S$80.00</td>\n",
       "    </tr>\n",
       "    <tr>\n",
       "      <th>1</th>\n",
       "      <td>31 Aug 2022</td>\n",
       "      <td>MST</td>\n",
       "      <td>Card Transaction</td>\n",
       "      <td>Debit Card Transaction BOOST JUICE RCS SI NG 3...</td>\n",
       "      <td>S$11.00</td>\n",
       "      <td></td>\n",
       "    </tr>\n",
       "    <tr>\n",
       "      <th>2</th>\n",
       "      <td>31 Aug 2022</td>\n",
       "      <td>ITR</td>\n",
       "      <td>Funds Transfer</td>\n",
       "      <td>Funds Transfer 009-1-024105 : I-BANK</td>\n",
       "      <td></td>\n",
       "      <td>S$17.00</td>\n",
       "    </tr>\n",
       "    <tr>\n",
       "      <th>3</th>\n",
       "      <td>31 Aug 2022</td>\n",
       "      <td>INT</td>\n",
       "      <td>Interest Earned</td>\n",
       "      <td>Interest Earned</td>\n",
       "      <td></td>\n",
       "      <td>S$0.01</td>\n",
       "    </tr>\n",
       "    <tr>\n",
       "      <th>4</th>\n",
       "      <td>01 Sep 2022</td>\n",
       "      <td>MST</td>\n",
       "      <td>Card Transaction</td>\n",
       "      <td>Debit Card Transaction IPPUDO - RAFFLES CITY S...</td>\n",
       "      <td>S$68.68</td>\n",
       "      <td></td>\n",
       "    </tr>\n",
       "    <tr>\n",
       "      <th>...</th>\n",
       "      <td>...</td>\n",
       "      <td>...</td>\n",
       "      <td>...</td>\n",
       "      <td>...</td>\n",
       "      <td>...</td>\n",
       "      <td>...</td>\n",
       "    </tr>\n",
       "    <tr>\n",
       "      <th>99</th>\n",
       "      <td>23 Nov 2022</td>\n",
       "      <td>MST</td>\n",
       "      <td>Card Transaction</td>\n",
       "      <td>Debit Card Transaction DIN TAI FUNG-JEM SI NG ...</td>\n",
       "      <td>S$57.20</td>\n",
       "      <td></td>\n",
       "    </tr>\n",
       "    <tr>\n",
       "      <th>100</th>\n",
       "      <td>23 Nov 2022</td>\n",
       "      <td>MST</td>\n",
       "      <td>Card Transaction</td>\n",
       "      <td>Debit Card Transaction NET*NETSMM SI NG 21NOV ...</td>\n",
       "      <td>S$7.20</td>\n",
       "      <td></td>\n",
       "    </tr>\n",
       "    <tr>\n",
       "      <th>101</th>\n",
       "      <td>25 Nov 2022</td>\n",
       "      <td>MST</td>\n",
       "      <td>Card Transaction</td>\n",
       "      <td>Debit Card Transaction KOUFU PTE LTD SI NG 24N...</td>\n",
       "      <td>S$23.30</td>\n",
       "      <td></td>\n",
       "    </tr>\n",
       "    <tr>\n",
       "      <th>102</th>\n",
       "      <td>25 Nov 2022</td>\n",
       "      <td>POS</td>\n",
       "      <td>Point-Of-Sale</td>\n",
       "      <td>Point-of-Sale Transaction 43375097,CANOPY COFF...</td>\n",
       "      <td>S$1.20</td>\n",
       "      <td></td>\n",
       "    </tr>\n",
       "    <tr>\n",
       "      <th>103</th>\n",
       "      <td>26 Nov 2022</td>\n",
       "      <td>POS</td>\n",
       "      <td>Point-Of-Sale</td>\n",
       "      <td>Point-of-Sale Transaction 43375097,JOLLIBEE NETS</td>\n",
       "      <td>S$23.25</td>\n",
       "      <td></td>\n",
       "    </tr>\n",
       "  </tbody>\n",
       "</table>\n",
       "<p>104 rows × 6 columns</p>\n",
       "</div>"
      ],
      "text/plain": [
       "            Date Code              Type  \\\n",
       "0    29 Aug 2022  ITR    Funds Transfer   \n",
       "1    31 Aug 2022  MST  Card Transaction   \n",
       "2    31 Aug 2022  ITR    Funds Transfer   \n",
       "3    31 Aug 2022  INT   Interest Earned   \n",
       "4    01 Sep 2022  MST  Card Transaction   \n",
       "..           ...  ...               ...   \n",
       "99   23 Nov 2022  MST  Card Transaction   \n",
       "100  23 Nov 2022  MST  Card Transaction   \n",
       "101  25 Nov 2022  MST  Card Transaction   \n",
       "102  25 Nov 2022  POS     Point-Of-Sale   \n",
       "103  26 Nov 2022  POS     Point-Of-Sale   \n",
       "\n",
       "                                             Reference    Debit   Credit  \n",
       "0                Funds Transfer 009-1-024105 : I-BANK            S$80.00  \n",
       "1    Debit Card Transaction BOOST JUICE RCS SI NG 3...  S$11.00           \n",
       "2                 Funds Transfer 009-1-024105 : I-BANK           S$17.00  \n",
       "3                                      Interest Earned            S$0.01  \n",
       "4    Debit Card Transaction IPPUDO - RAFFLES CITY S...  S$68.68           \n",
       "..                                                 ...      ...      ...  \n",
       "99   Debit Card Transaction DIN TAI FUNG-JEM SI NG ...  S$57.20           \n",
       "100  Debit Card Transaction NET*NETSMM SI NG 21NOV ...   S$7.20           \n",
       "101  Debit Card Transaction KOUFU PTE LTD SI NG 24N...  S$23.30           \n",
       "102  Point-of-Sale Transaction 43375097,CANOPY COFF...   S$1.20           \n",
       "103   Point-of-Sale Transaction 43375097,JOLLIBEE NETS  S$23.25           \n",
       "\n",
       "[104 rows x 6 columns]"
      ]
     },
     "execution_count": 62,
     "metadata": {},
     "output_type": "execute_result"
    }
   ],
   "source": [
    "concat = concat.reindex(index=concat.index[::-1])\n",
    "concat.reset_index(drop=True)"
   ]
  },
  {
   "cell_type": "code",
   "execution_count": 63,
   "metadata": {},
   "outputs": [],
   "source": [
    "concat = concat.loc[~((concat['Date'] == 'Date') & (concat['Code'] == 'Code'))]\n",
    "concat = concat.loc[~((concat['Debit'] == 'Download') & (concat['Credit'] == 'Print'))]\n",
    "concat = concat.loc[~((concat['Debit'] == '(Withdrawal)') & concat['Credit'] == '(Deposit)')]\n",
    "concat = concat.replace('', np.nan)\n",
    "concat = concat.dropna(thresh=len(concat.columns) - 3)\n",
    "concat = concat.reset_index(drop=True)\n",
    "concat = concat.loc[~((concat['Date'].str.contains('Transaction History')))]\n",
    "concat = concat.reset_index(drop=True)"
   ]
  },
  {
   "cell_type": "code",
   "execution_count": 64,
   "metadata": {},
   "outputs": [],
   "source": [
    "concat.to_csv('check.csv')"
   ]
  },
  {
   "cell_type": "code",
   "execution_count": 65,
   "metadata": {},
   "outputs": [],
   "source": [
    "concat['Balance'] = ''\n",
    "final = 204.47\n",
    "concat.at[concat.shape[0]-1, 'Balance'] = 'S$' + str(204.47)\n",
    "index = concat.shape[0]-2\n",
    "\n",
    "for agg in range(len(concat)):\n",
    "\n",
    "    if concat.at[index, 'Debit'] != '':\n",
    "        if isinstance(concat.at[index, 'Debit'], float) == False:\n",
    "            update = final - float(concat.at[index, 'Debit'][2:])\n",
    "            concat.at[index, 'Balance'] = 'S$' + str(round(update, 2))\n",
    "\n",
    "    if concat.at[index, 'Credit'] != '':\n",
    "        if isinstance(concat.at[index, 'Credit'], float) == False:\n",
    "            update = final + float(concat.at[index, 'Credit'][2:])\n",
    "            concat.at[index, 'Balance'] = 'S$' + str(round(update, 2))\n",
    "\n",
    "\n",
    "    if index != 0:\n",
    "        index -= 1"
   ]
  },
  {
   "cell_type": "code",
   "execution_count": 66,
   "metadata": {},
   "outputs": [],
   "source": [
    "concat.to_csv('check.csv')"
   ]
  },
  {
   "cell_type": "code",
   "execution_count": 67,
   "metadata": {},
   "outputs": [],
   "source": [
    "def pie():\n",
    "    TYPE = concat['Type']\n",
    "    counts = TYPE.value_counts()\n",
    "    names = counts.index.tolist()\n",
    "    \n",
    "    plt.pie(counts, labels=names, autopct='%1.1f%%')\n",
    "    plt.legend()\n",
    "    plt.show()\n",
    "    \n",
    "def totalDrCr():\n",
    "    dr = float(DrBal[2:].replace(',', ''))\n",
    "    cr = float(CrBal[2:].replace(',', ''))\n",
    "\n",
    "    vals = [dr, cr]\n",
    "    names = ['Debit', 'Credit']\n",
    "    plt.bar(x=names, height=vals)\n",
    "    plt.legend()\n",
    "    plt.show()\n",
    "\n",
    "def timeSeries():\n",
    "    line = concat['']\n",
    "\n",
    "\n",
    "def saveToCSV():\n",
    "    saveDF = concat.copy()\n",
    "    date = saveDF.at[saveDF.shape[0]-1, 'Date']\n",
    "\n",
    "    newRow = {\n",
    "        'Date': date, \n",
    "        'Code': 'TTL', \n",
    "        'Type': 'Running Total', \n",
    "        'Reference': 'Total Dr/Cr',\n",
    "        'Debit': DrBal,\n",
    "        'Credit': CrBal}\n",
    "    \n",
    "    saveDF = saveDF.append(newRow, ignore_index=True)\n",
    "    saveDF.to_excel('parsed.xlsx')"
   ]
  },
  {
   "cell_type": "code",
   "execution_count": 68,
   "metadata": {},
   "outputs": [
    {
     "name": "stderr",
     "output_type": "stream",
     "text": [
      "No artists with labels found to put in legend.  Note that artists whose label start with an underscore are ignored when legend() is called with no argument.\n"
     ]
    },
    {
     "data": {
      "image/png": "[encoded data removed]",
      "text/plain": [
       "<Figure size 640x480 with 1 Axes>"
      ]
     },
     "metadata": {},
     "output_type": "display_data"
    }
   ],
   "source": [
    "totalDrCr()"
   ]
  },
  {
   "cell_type": "code",
   "execution_count": 69,
   "metadata": {},
   "outputs": [
    {
     "data": {
      "application/vnd.plotly.v1+json": {
       "config": {
        "plotlyServerURL": "https://plot.ly"
       },
       "data": [
        {
         "domain": {
          "x": [
           0,
           1
          ],
          "y": [
           0,
           1
          ]
         },
         "hovertemplate": "Type=%{label}<extra></extra>",
         "labels": [
          "Funds Transfer",
          "Card Transaction",
          "Funds Transfer",
          "Interest Earned",
          "Card Transaction",
          "Card Transaction",
          "Funds Transfer",
          "Funds Transfer",
          "Card Transaction",
          "Funds Transfer",
          "Funds Transfer",
          "Card Transaction",
          "Funds Transfer",
          "Funds Transfer",
          "Card Transaction",
          "Card Transaction",
          "Funds Transfer",
          "Card Transaction",
          "Card Transaction",
          "Card Transaction",
          "Funds Transfer",
          "Funds Transfer",
          "Card Transaction",
          "Card Transaction",
          "Card Transaction",
          "Card Transaction",
          "Interest Earned",
          "Card Transaction",
          "Card Transaction",
          "Card Transaction",
          "Funds Transfer",
          "Card Transaction",
          "Card Transaction",
          "Funds Transfer",
          "Funds Transfer",
          "Card Transaction",
          "Funds Transfer",
          "Funds Transfer",
          "Funds Transfer",
          "Funds Transfer",
          "Card Transaction",
          "Card Transaction",
          "Card Transaction",
          "Funds Transfer",
          "Card Transaction",
          "Card Transaction",
          "Card Transaction",
          "Card Transaction",
          "Funds Transfer",
          "Funds Transfer",
          "Card Transaction",
          "Funds Transfer",
          "Card Transaction",
          "Card Transaction",
          "Funds Transfer",
          "Funds Transfer",
          "Card Transaction",
          "Funds Transfer",
          "Card Transaction",
          "Card Transaction",
          "Card Transaction",
          "Card Transaction",
          "Funds Transfer",
          "Card Transaction",
          "Funds Transfer",
          "Funds Transfer",
          "Card Transaction",
          "Funds Transfer",
          "Interest Earned",
          "Card Transaction",
          "Card Transaction",
          "Card Transaction",
          "Card Transaction",
          "Card Transaction",
          "Card Transaction",
          "Funds Transfer",
          "Card Transaction",
          "Funds Transfer",
          "Card Transaction",
          "Card Transaction",
          "Card Transaction",
          "Card Transaction",
          "Card Transaction",
          "Card Transaction",
          "Funds Transfer",
          "Card Transaction",
          "Card Transaction",
          "Funds Transfer",
          "Card Transaction",
          "Card Transaction",
          "Funds Transfer",
          "Card Transaction",
          "Card Transaction",
          "Funds Transfer",
          "Card Transaction",
          "Card Transaction",
          "Funds Transfer",
          "Card Transaction",
          "Card Transaction",
          "Card Transaction",
          "Card Transaction",
          "Card Transaction",
          "Point-Of-Sale",
          "Point-Of-Sale"
         ],
         "legendgroup": "",
         "name": "",
         "showlegend": true,
         "type": "pie"
        }
       ],
       "layout": {
        "legend": {
         "tracegroupgap": 0
        },
        "margin": {
         "t": 60
        },
        "template": {
         "data": {
          "bar": [
           {
            "error_x": {
             "color": "#2a3f5f"
            },
            "error_y": {
             "color": "#2a3f5f"
            },
            "marker": {
             "line": {
              "color": "#E5ECF6",
              "width": 0.5
             },
             "pattern": {
              "fillmode": "overlay",
              "size": 10,
              "solidity": 0.2
             }
            },
            "type": "bar"
           }
          ],
          "barpolar": [
           {
            "marker": {
             "line": {
              "color": "#E5ECF6",
              "width": 0.5
             },
             "pattern": {
              "fillmode": "overlay",
              "size": 10,
              "solidity": 0.2
             }
            },
            "type": "barpolar"
           }
          ],
          "carpet": [
           {
            "aaxis": {
             "endlinecolor": "#2a3f5f",
             "gridcolor": "white",
             "linecolor": "white",
             "minorgridcolor": "white",
             "startlinecolor": "#2a3f5f"
            },
            "baxis": {
             "endlinecolor": "#2a3f5f",
             "gridcolor": "white",
             "linecolor": "white",
             "minorgridcolor": "white",
             "startlinecolor": "#2a3f5f"
            },
            "type": "carpet"
           }
          ],
          "choropleth": [
           {
            "colorbar": {
             "outlinewidth": 0,
             "ticks": ""
            },
            "type": "choropleth"
           }
          ],
          "contour": [
           {
            "colorbar": {
             "outlinewidth": 0,
             "ticks": ""
            },
            "colorscale": [
             [
              0,
              "#0d0887"
             ],
             [
              0.1111111111111111,
              "#46039f"
             ],
             [
              0.2222222222222222,
              "#7201a8"
             ],
             [
              0.3333333333333333,
              "#9c179e"
             ],
             [
              0.4444444444444444,
              "#bd3786"
             ],
             [
              0.5555555555555556,
              "#d8576b"
             ],
             [
              0.6666666666666666,
              "#ed7953"
             ],
             [
              0.7777777777777778,
              "#fb9f3a"
             ],
             [
              0.8888888888888888,
              "#fdca26"
             ],
             [
              1,
              "#f0f921"
             ]
            ],
            "type": "contour"
           }
          ],
          "contourcarpet": [
           {
            "colorbar": {
             "outlinewidth": 0,
             "ticks": ""
            },
            "type": "contourcarpet"
           }
          ],
          "heatmap": [
           {
            "colorbar": {
             "outlinewidth": 0,
             "ticks": ""
            },
            "colorscale": [
             [
              0,
              "#0d0887"
             ],
             [
              0.1111111111111111,
              "#46039f"
             ],
             [
              0.2222222222222222,
              "#7201a8"
             ],
             [
              0.3333333333333333,
              "#9c179e"
             ],
             [
              0.4444444444444444,
              "#bd3786"
             ],
             [
              0.5555555555555556,
              "#d8576b"
             ],
             [
              0.6666666666666666,
              "#ed7953"
             ],
             [
              0.7777777777777778,
              "#fb9f3a"
             ],
             [
              0.8888888888888888,
              "#fdca26"
             ],
             [
              1,
              "#f0f921"
             ]
            ],
            "type": "heatmap"
           }
          ],
          "heatmapgl": [
           {
            "colorbar": {
             "outlinewidth": 0,
             "ticks": ""
            },
            "colorscale": [
             [
              0,
              "#0d0887"
             ],
             [
              0.1111111111111111,
              "#46039f"
             ],
             [
              0.2222222222222222,
              "#7201a8"
             ],
             [
              0.3333333333333333,
              "#9c179e"
             ],
             [
              0.4444444444444444,
              "#bd3786"
             ],
             [
              0.5555555555555556,
              "#d8576b"
             ],
             [
              0.6666666666666666,
              "#ed7953"
             ],
             [
              0.7777777777777778,
              "#fb9f3a"
             ],
             [
              0.8888888888888888,
              "#fdca26"
             ],
             [
              1,
              "#f0f921"
             ]
            ],
            "type": "heatmapgl"
           }
          ],
          "histogram": [
           {
            "marker": {
             "pattern": {
              "fillmode": "overlay",
              "size": 10,
              "solidity": 0.2
             }
            },
            "type": "histogram"
           }
          ],
          "histogram2d": [
           {
            "colorbar": {
             "outlinewidth": 0,
             "ticks": ""
            },
            "colorscale": [
             [
              0,
              "#0d0887"
             ],
             [
              0.1111111111111111,
              "#46039f"
             ],
             [
              0.2222222222222222,
              "#7201a8"
             ],
             [
              0.3333333333333333,
              "#9c179e"
             ],
             [
              0.4444444444444444,
              "#bd3786"
             ],
             [
              0.5555555555555556,
              "#d8576b"
             ],
             [
              0.6666666666666666,
              "#ed7953"
             ],
             [
              0.7777777777777778,
              "#fb9f3a"
             ],
             [
              0.8888888888888888,
              "#fdca26"
             ],
             [
              1,
              "#f0f921"
             ]
            ],
            "type": "histogram2d"
           }
          ],
          "histogram2dcontour": [
           {
            "colorbar": {
             "outlinewidth": 0,
             "ticks": ""
            },
            "colorscale": [
             [
              0,
              "#0d0887"
             ],
             [
              0.1111111111111111,
              "#46039f"
             ],
             [
              0.2222222222222222,
              "#7201a8"
             ],
             [
              0.3333333333333333,
              "#9c179e"
             ],
             [
              0.4444444444444444,
              "#bd3786"
             ],
             [
              0.5555555555555556,
              "#d8576b"
             ],
             [
              0.6666666666666666,
              "#ed7953"
             ],
             [
              0.7777777777777778,
              "#fb9f3a"
             ],
             [
              0.8888888888888888,
              "#fdca26"
             ],
             [
              1,
              "#f0f921"
             ]
            ],
            "type": "histogram2dcontour"
           }
          ],
          "mesh3d": [
           {
            "colorbar": {
             "outlinewidth": 0,
             "ticks": ""
            },
            "type": "mesh3d"
           }
          ],
          "parcoords": [
           {
            "line": {
             "colorbar": {
              "outlinewidth": 0,
              "ticks": ""
             }
            },
            "type": "parcoords"
           }
          ],
          "pie": [
           {
            "automargin": true,
            "type": "pie"
           }
          ],
          "scatter": [
           {
            "fillpattern": {
             "fillmode": "overlay",
             "size": 10,
             "solidity": 0.2
            },
            "type": "scatter"
           }
          ],
          "scatter3d": [
           {
            "line": {
             "colorbar": {
              "outlinewidth": 0,
              "ticks": ""
             }
            },
            "marker": {
             "colorbar": {
              "outlinewidth": 0,
              "ticks": ""
             }
            },
            "type": "scatter3d"
           }
          ],
          "scattercarpet": [
           {
            "marker": {
             "colorbar": {
              "outlinewidth": 0,
              "ticks": ""
             }
            },
            "type": "scattercarpet"
           }
          ],
          "scattergeo": [
           {
            "marker": {
             "colorbar": {
              "outlinewidth": 0,
              "ticks": ""
             }
            },
            "type": "scattergeo"
           }
          ],
          "scattergl": [
           {
            "marker": {
             "colorbar": {
              "outlinewidth": 0,
              "ticks": ""
             }
            },
            "type": "scattergl"
           }
          ],
          "scattermapbox": [
           {
            "marker": {
             "colorbar": {
              "outlinewidth": 0,
              "ticks": ""
             }
            },
            "type": "scattermapbox"
           }
          ],
          "scatterpolar": [
           {
            "marker": {
             "colorbar": {
              "outlinewidth": 0,
              "ticks": ""
             }
            },
            "type": "scatterpolar"
           }
          ],
          "scatterpolargl": [
           {
            "marker": {
             "colorbar": {
              "outlinewidth": 0,
              "ticks": ""
             }
            },
            "type": "scatterpolargl"
           }
          ],
          "scatterternary": [
           {
            "marker": {
             "colorbar": {
              "outlinewidth": 0,
              "ticks": ""
             }
            },
            "type": "scatterternary"
           }
          ],
          "surface": [
           {
            "colorbar": {
             "outlinewidth": 0,
             "ticks": ""
            },
            "colorscale": [
             [
              0,
              "#0d0887"
             ],
             [
              0.1111111111111111,
              "#46039f"
             ],
             [
              0.2222222222222222,
              "#7201a8"
             ],
             [
              0.3333333333333333,
              "#9c179e"
             ],
             [
              0.4444444444444444,
              "#bd3786"
             ],
             [
              0.5555555555555556,
              "#d8576b"
             ],
             [
              0.6666666666666666,
              "#ed7953"
             ],
             [
              0.7777777777777778,
              "#fb9f3a"
             ],
             [
              0.8888888888888888,
              "#fdca26"
             ],
             [
              1,
              "#f0f921"
             ]
            ],
            "type": "surface"
           }
          ],
          "table": [
           {
            "cells": {
             "fill": {
              "color": "#EBF0F8"
             },
             "line": {
              "color": "white"
             }
            },
            "header": {
             "fill": {
              "color": "#C8D4E3"
             },
             "line": {
              "color": "white"
             }
            },
            "type": "table"
           }
          ]
         },
         "layout": {
          "annotationdefaults": {
           "arrowcolor": "#2a3f5f",
           "arrowhead": 0,
           "arrowwidth": 1
          },
          "autotypenumbers": "strict",
          "coloraxis": {
           "colorbar": {
            "outlinewidth": 0,
            "ticks": ""
           }
          },
          "colorscale": {
           "diverging": [
            [
             0,
             "#8e0152"
            ],
            [
             0.1,
             "#c51b7d"
            ],
            [
             0.2,
             "#de77ae"
            ],
            [
             0.3,
             "#f1b6da"
            ],
            [
             0.4,
             "#fde0ef"
            ],
            [
             0.5,
             "#f7f7f7"
            ],
            [
             0.6,
             "#e6f5d0"
            ],
            [
             0.7,
             "#b8e186"
            ],
            [
             0.8,
             "#7fbc41"
            ],
            [
             0.9,
             "#4d9221"
            ],
            [
             1,
             "#276419"
            ]
           ],
           "sequential": [
            [
             0,
             "#0d0887"
            ],
            [
             0.1111111111111111,
             "#46039f"
            ],
            [
             0.2222222222222222,
             "#7201a8"
            ],
            [
             0.3333333333333333,
             "#9c179e"
            ],
            [
             0.4444444444444444,
             "#bd3786"
            ],
            [
             0.5555555555555556,
             "#d8576b"
            ],
            [
             0.6666666666666666,
             "#ed7953"
            ],
            [
             0.7777777777777778,
             "#fb9f3a"
            ],
            [
             0.8888888888888888,
             "#fdca26"
            ],
            [
             1,
             "#f0f921"
            ]
           ],
           "sequentialminus": [
            [
             0,
             "#0d0887"
            ],
            [
             0.1111111111111111,
             "#46039f"
            ],
            [
             0.2222222222222222,
             "#7201a8"
            ],
            [
             0.3333333333333333,
             "#9c179e"
            ],
            [
             0.4444444444444444,
             "#bd3786"
            ],
            [
             0.5555555555555556,
             "#d8576b"
            ],
            [
             0.6666666666666666,
             "#ed7953"
            ],
            [
             0.7777777777777778,
             "#fb9f3a"
            ],
            [
             0.8888888888888888,
             "#fdca26"
            ],
            [
             1,
             "#f0f921"
            ]
           ]
          },
          "colorway": [
           "#636efa",
           "#EF553B",
           "#00cc96",
           "#ab63fa",
           "#FFA15A",
           "#19d3f3",
           "#FF6692",
           "#B6E880",
           "#FF97FF",
           "#FECB52"
          ],
          "font": {
           "color": "#2a3f5f"
          },
          "geo": {
           "bgcolor": "white",
           "lakecolor": "white",
           "landcolor": "#E5ECF6",
           "showlakes": true,
           "showland": true,
           "subunitcolor": "white"
          },
          "hoverlabel": {
           "align": "left"
          },
          "hovermode": "closest",
          "mapbox": {
           "style": "light"
          },
          "paper_bgcolor": "white",
          "plot_bgcolor": "#E5ECF6",
          "polar": {
           "angularaxis": {
            "gridcolor": "white",
            "linecolor": "white",
            "ticks": ""
           },
           "bgcolor": "#E5ECF6",
           "radialaxis": {
            "gridcolor": "white",
            "linecolor": "white",
            "ticks": ""
           }
          },
          "scene": {
           "xaxis": {
            "backgroundcolor": "#E5ECF6",
            "gridcolor": "white",
            "gridwidth": 2,
            "linecolor": "white",
            "showbackground": true,
            "ticks": "",
            "zerolinecolor": "white"
           },
           "yaxis": {
            "backgroundcolor": "#E5ECF6",
            "gridcolor": "white",
            "gridwidth": 2,
            "linecolor": "white",
            "showbackground": true,
            "ticks": "",
            "zerolinecolor": "white"
           },
           "zaxis": {
            "backgroundcolor": "#E5ECF6",
            "gridcolor": "white",
            "gridwidth": 2,
            "linecolor": "white",
            "showbackground": true,
            "ticks": "",
            "zerolinecolor": "white"
           }
          },
          "shapedefaults": {
           "line": {
            "color": "#2a3f5f"
           }
          },
          "ternary": {
           "aaxis": {
            "gridcolor": "white",
            "linecolor": "white",
            "ticks": ""
           },
           "baxis": {
            "gridcolor": "white",
            "linecolor": "white",
            "ticks": ""
           },
           "bgcolor": "#E5ECF6",
           "caxis": {
            "gridcolor": "white",
            "linecolor": "white",
            "ticks": ""
           }
          },
          "title": {
           "x": 0.05
          },
          "xaxis": {
           "automargin": true,
           "gridcolor": "white",
           "linecolor": "white",
           "ticks": "",
           "title": {
            "standoff": 15
           },
           "zerolinecolor": "white",
           "zerolinewidth": 2
          },
          "yaxis": {
           "automargin": true,
           "gridcolor": "white",
           "linecolor": "white",
           "ticks": "",
           "title": {
            "standoff": 15
           },
           "zerolinecolor": "white",
           "zerolinewidth": 2
          }
         }
        }
       }
      }
     },
     "metadata": {},
     "output_type": "display_data"
    }
   ],
   "source": [
    "import plotly.io as pio\n",
    "pio.renderers.default = \"vscode\"\n",
    "import plotly.express as px\n",
    "fig = px.pie(concat, 'Type')\n",
    "fig.show()"
   ]
  },
  {
   "cell_type": "code",
   "execution_count": 52,
   "metadata": {},
   "outputs": [
    {
     "name": "stderr",
     "output_type": "stream",
     "text": [
      "C:\\Users\\rutsm\\AppData\\Local\\Temp\\ipykernel_2072\\3571749736.py:36: FutureWarning:\n",
      "\n",
      "The frame.append method is deprecated and will be removed from pandas in a future version. Use pandas.concat instead.\n",
      "\n"
     ]
    }
   ],
   "source": [
    "saveToCSV()"
   ]
  }
 ],
 "metadata": {
  "kernelspec": {
   "display_name": "env",
   "language": "python",
   "name": "python3"
  },
  "language_info": {
   "codemirror_mode": {
    "name": "ipython",
    "version": 3
   },
   "file_extension": ".py",
   "mimetype": "text/x-python",
   "name": "python",
   "nbconvert_exporter": "python",
   "pygments_lexer": "ipython3",
   "version": "3.11.0"
  },
  "vscode": {
   "interpreter": {
    "hash": "9ab20ff6fde852026e2fa6e2e65fea7a63210fefdddfcc609c4948f0153bdcbd"
   }
  }
 },
 "nbformat": 4,
 "nbformat_minor": 2
}
